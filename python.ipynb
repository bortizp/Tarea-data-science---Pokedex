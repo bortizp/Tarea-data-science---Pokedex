{
 "cells": [
  {
   "cell_type": "markdown",
   "id": "d0f8627e",
   "metadata": {},
   "source": [
    "1. Lectura de datos\n",
    "-------------------\n",
    "- Carga el archivo pokemon_primera_gen.csv en un DataFrame de Pandas."
   ]
  },
  {
   "cell_type": "code",
   "execution_count": 1,
   "id": "6015065a",
   "metadata": {},
   "outputs": [
    {
     "name": "stdout",
     "output_type": "stream",
     "text": [
      "         Nombre    Tipo 1   Tipo 2  Ataque  Defensa  Velocidad   PS\n",
      "0     Bulbasaur    Planta   Veneno      49       49         45   45\n",
      "1       Ivysaur    Planta   Veneno      62       63         60   60\n",
      "2      Venusaur    Planta   Veneno      82       83         80   80\n",
      "3    Charmander     Fuego      NaN      52       43         65   39\n",
      "4    Charmeleon     Fuego      NaN      64       58         80   58\n",
      "..          ...       ...      ...     ...      ...        ...  ...\n",
      "146     Dratini    Dragón      NaN      64       45         50   41\n",
      "147   Dragonair    Dragón      NaN      84       65         70   61\n",
      "148   Dragonite    Dragón  Volador     134       95         80   91\n",
      "149      Mewtwo  Psiquico      NaN     110       90        130  106\n",
      "150         Mew  Psiquico      NaN     100      100        100  100\n",
      "\n",
      "[151 rows x 7 columns]\n"
     ]
    }
   ],
   "source": [
    "import pandas as pd\n",
    "import numpy as np\n",
    "from scipy import stats\n",
    "\n",
    "\n",
    "pokedex = pd.read_csv(\"pokemon_primera_gen.csv\")\n",
    "\n",
    "print(pokedex)"
   ]
  },
  {
   "cell_type": "markdown",
   "id": "71b5ec1b",
   "metadata": {},
   "source": [
    "2. Filtrado y selección\n",
    "-----------------------\n",
    "- Filtra todos los Pokémon de tipo \"Fuego\".\n",
    "- Selecciona solo las columnas Nombre, Tipo 1, Ataque y Velocidad."
   ]
  },
  {
   "cell_type": "code",
   "execution_count": 2,
   "id": "89b64ee7",
   "metadata": {},
   "outputs": [
    {
     "ename": "KeyError",
     "evalue": "\"['nombre', 'tipo 1'] not in index\"",
     "output_type": "error",
     "traceback": [
      "\u001b[31m---------------------------------------------------------------------------\u001b[39m",
      "\u001b[31mKeyError\u001b[39m                                  Traceback (most recent call last)",
      "\u001b[36mCell\u001b[39m\u001b[36m \u001b[39m\u001b[32mIn[2]\u001b[39m\u001b[32m, line 2\u001b[39m\n\u001b[32m      1\u001b[39m tipo_fuego = pokedex[pokedex[\u001b[33m\"\u001b[39m\u001b[33mTipo 1\u001b[39m\u001b[33m\"\u001b[39m] == \u001b[33m\"\u001b[39m\u001b[33mFuego\u001b[39m\u001b[33m\"\u001b[39m]\n\u001b[32m----> \u001b[39m\u001b[32m2\u001b[39m \u001b[38;5;28mprint\u001b[39m(\u001b[43mtipo_fuego\u001b[49m\u001b[43m[\u001b[49m\u001b[43m[\u001b[49m\u001b[33;43m\"\u001b[39;49m\u001b[33;43mnombre\u001b[39;49m\u001b[33;43m\"\u001b[39;49m\u001b[43m,\u001b[49m\u001b[33;43m\"\u001b[39;49m\u001b[33;43mtipo 1\u001b[39;49m\u001b[33;43m\"\u001b[39;49m\u001b[43m,\u001b[49m\u001b[33;43m\"\u001b[39;49m\u001b[33;43mAtaque\u001b[39;49m\u001b[33;43m\"\u001b[39;49m\u001b[43m,\u001b[49m\u001b[33;43m\"\u001b[39;49m\u001b[33;43mVelocidad\u001b[39;49m\u001b[33;43m\"\u001b[39;49m\u001b[43m]\u001b[49m\u001b[43m]\u001b[49m)\n",
      "\u001b[36mFile \u001b[39m\u001b[32mc:\\Users\\UTEM\\OneDrive\\Documentos\\code\\venv\\Lib\\site-packages\\pandas\\core\\frame.py:4113\u001b[39m, in \u001b[36mDataFrame.__getitem__\u001b[39m\u001b[34m(self, key)\u001b[39m\n\u001b[32m   4111\u001b[39m     \u001b[38;5;28;01mif\u001b[39;00m is_iterator(key):\n\u001b[32m   4112\u001b[39m         key = \u001b[38;5;28mlist\u001b[39m(key)\n\u001b[32m-> \u001b[39m\u001b[32m4113\u001b[39m     indexer = \u001b[38;5;28;43mself\u001b[39;49m\u001b[43m.\u001b[49m\u001b[43mcolumns\u001b[49m\u001b[43m.\u001b[49m\u001b[43m_get_indexer_strict\u001b[49m\u001b[43m(\u001b[49m\u001b[43mkey\u001b[49m\u001b[43m,\u001b[49m\u001b[43m \u001b[49m\u001b[33;43m\"\u001b[39;49m\u001b[33;43mcolumns\u001b[39;49m\u001b[33;43m\"\u001b[39;49m\u001b[43m)\u001b[49m[\u001b[32m1\u001b[39m]\n\u001b[32m   4115\u001b[39m \u001b[38;5;66;03m# take() does not accept boolean indexers\u001b[39;00m\n\u001b[32m   4116\u001b[39m \u001b[38;5;28;01mif\u001b[39;00m \u001b[38;5;28mgetattr\u001b[39m(indexer, \u001b[33m\"\u001b[39m\u001b[33mdtype\u001b[39m\u001b[33m\"\u001b[39m, \u001b[38;5;28;01mNone\u001b[39;00m) == \u001b[38;5;28mbool\u001b[39m:\n",
      "\u001b[36mFile \u001b[39m\u001b[32mc:\\Users\\UTEM\\OneDrive\\Documentos\\code\\venv\\Lib\\site-packages\\pandas\\core\\indexes\\base.py:6212\u001b[39m, in \u001b[36mIndex._get_indexer_strict\u001b[39m\u001b[34m(self, key, axis_name)\u001b[39m\n\u001b[32m   6209\u001b[39m \u001b[38;5;28;01melse\u001b[39;00m:\n\u001b[32m   6210\u001b[39m     keyarr, indexer, new_indexer = \u001b[38;5;28mself\u001b[39m._reindex_non_unique(keyarr)\n\u001b[32m-> \u001b[39m\u001b[32m6212\u001b[39m \u001b[38;5;28;43mself\u001b[39;49m\u001b[43m.\u001b[49m\u001b[43m_raise_if_missing\u001b[49m\u001b[43m(\u001b[49m\u001b[43mkeyarr\u001b[49m\u001b[43m,\u001b[49m\u001b[43m \u001b[49m\u001b[43mindexer\u001b[49m\u001b[43m,\u001b[49m\u001b[43m \u001b[49m\u001b[43maxis_name\u001b[49m\u001b[43m)\u001b[49m\n\u001b[32m   6214\u001b[39m keyarr = \u001b[38;5;28mself\u001b[39m.take(indexer)\n\u001b[32m   6215\u001b[39m \u001b[38;5;28;01mif\u001b[39;00m \u001b[38;5;28misinstance\u001b[39m(key, Index):\n\u001b[32m   6216\u001b[39m     \u001b[38;5;66;03m# GH 42790 - Preserve name from an Index\u001b[39;00m\n",
      "\u001b[36mFile \u001b[39m\u001b[32mc:\\Users\\UTEM\\OneDrive\\Documentos\\code\\venv\\Lib\\site-packages\\pandas\\core\\indexes\\base.py:6264\u001b[39m, in \u001b[36mIndex._raise_if_missing\u001b[39m\u001b[34m(self, key, indexer, axis_name)\u001b[39m\n\u001b[32m   6261\u001b[39m     \u001b[38;5;28;01mraise\u001b[39;00m \u001b[38;5;167;01mKeyError\u001b[39;00m(\u001b[33mf\u001b[39m\u001b[33m\"\u001b[39m\u001b[33mNone of [\u001b[39m\u001b[38;5;132;01m{\u001b[39;00mkey\u001b[38;5;132;01m}\u001b[39;00m\u001b[33m] are in the [\u001b[39m\u001b[38;5;132;01m{\u001b[39;00maxis_name\u001b[38;5;132;01m}\u001b[39;00m\u001b[33m]\u001b[39m\u001b[33m\"\u001b[39m)\n\u001b[32m   6263\u001b[39m not_found = \u001b[38;5;28mlist\u001b[39m(ensure_index(key)[missing_mask.nonzero()[\u001b[32m0\u001b[39m]].unique())\n\u001b[32m-> \u001b[39m\u001b[32m6264\u001b[39m \u001b[38;5;28;01mraise\u001b[39;00m \u001b[38;5;167;01mKeyError\u001b[39;00m(\u001b[33mf\u001b[39m\u001b[33m\"\u001b[39m\u001b[38;5;132;01m{\u001b[39;00mnot_found\u001b[38;5;132;01m}\u001b[39;00m\u001b[33m not in index\u001b[39m\u001b[33m\"\u001b[39m)\n",
      "\u001b[31mKeyError\u001b[39m: \"['nombre', 'tipo 1'] not in index\""
     ]
    }
   ],
   "source": [
    "tipo_fuego = pokedex[pokedex[\"Tipo 1\"] == \"Fuego\"]\n",
    "print(tipo_fuego[[\"nombre\",\"tipo 1\",\"Ataque\",\"Velocidad\"]])"
   ]
  },
  {
   "cell_type": "markdown",
   "id": "29eaf1e4",
   "metadata": {},
   "source": [
    "3. Estadística descriptiva básica\n",
    "---------------------------------\n",
    "- Calcula el promedio, la mediana y la moda del ataque de todos los Pokémon.\n",
    "- ¿Cuál es el Pokémon con mayor defensa? ¿Y el de menor velocidad?\n",
    "- ¿Cuántos Pokémon tienen dos tipos?\n",
    "- Calcula el rango y la desviación estándar de los PS (Puntos de Salud)."
   ]
  },
  {
   "cell_type": "code",
   "execution_count": null,
   "id": "ae3334cb",
   "metadata": {},
   "outputs": [
    {
     "ename": "NameError",
     "evalue": "name 'stats' is not defined",
     "output_type": "error",
     "traceback": [
      "\u001b[31m---------------------------------------------------------------------------\u001b[39m",
      "\u001b[31mNameError\u001b[39m                                 Traceback (most recent call last)",
      "\u001b[36mCell\u001b[39m\u001b[36m \u001b[39m\u001b[32mIn[7]\u001b[39m\u001b[32m, line 3\u001b[39m\n\u001b[32m      1\u001b[39m promedio = np.mean(pokedex[\u001b[33m\"\u001b[39m\u001b[33mAtaque\u001b[39m\u001b[33m\"\u001b[39m])\n\u001b[32m      2\u001b[39m mediana = np.median(pokedex[\u001b[33m\"\u001b[39m\u001b[33mAtaque\u001b[39m\u001b[33m\"\u001b[39m])\n\u001b[32m----> \u001b[39m\u001b[32m3\u001b[39m moda = \u001b[43mstats\u001b[49m.mode(pokedex[\u001b[33m\"\u001b[39m\u001b[33mAtaque\u001b[39m\u001b[33m\"\u001b[39m])\n\u001b[32m      4\u001b[39m max_defensa = np.max(pokedex[\u001b[33m\"\u001b[39m\u001b[33mDefensa\u001b[39m\u001b[33m\"\u001b[39m])\n\u001b[32m      5\u001b[39m min_velocidad = np.min(pokedex[\u001b[33m\"\u001b[39m\u001b[33mVelocidad\u001b[39m\u001b[33m\"\u001b[39m])\n",
      "\u001b[31mNameError\u001b[39m: name 'stats' is not defined"
     ]
    }
   ],
   "source": [
    "promedio = np.mean(pokedex[\"Ataque\"])\n",
    "mediana = np.median(pokedex[\"Ataque\"])\n",
    "moda = stats.mode(pokedex[\"Ataque\"])\n",
    "max_defensa = np.max(pokedex[\"Defensa\"])\n",
    "min_velocidad = np.min(pokedex[\"Velocidad\"])\n",
    "dos_tipos = pokedex[\"Tipo 2\"].notna().sum(1)\n"
   ]
  }
 ],
 "metadata": {
  "kernelspec": {
   "display_name": "venv (3.12.3)",
   "language": "python",
   "name": "python3"
  },
  "language_info": {
   "codemirror_mode": {
    "name": "ipython",
    "version": 3
   },
   "file_extension": ".py",
   "mimetype": "text/x-python",
   "name": "python",
   "nbconvert_exporter": "python",
   "pygments_lexer": "ipython3",
   "version": "3.12.3"
  }
 },
 "nbformat": 4,
 "nbformat_minor": 5
}
