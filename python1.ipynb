{
 "cells": [
  {
   "cell_type": "markdown",
   "id": "39700213",
   "metadata": {},
   "source": [
    "1. Lectura de datos\n",
    "-------------------\n",
    "- Carga el archivo pokemon_primera_gen.csv en un DataFrame de Pandas."
   ]
  },
  {
   "cell_type": "code",
   "execution_count": 36,
   "id": "fc3dec7f",
   "metadata": {},
   "outputs": [
    {
     "name": "stdout",
     "output_type": "stream",
     "text": [
      "         Nombre    Tipo 1   Tipo 2  Ataque  Defensa  Velocidad   PS\n",
      "0     Bulbasaur    Planta   Veneno      49       49         45   45\n",
      "1       Ivysaur    Planta   Veneno      62       63         60   60\n",
      "2      Venusaur    Planta   Veneno      82       83         80   80\n",
      "3    Charmander     Fuego      NaN      52       43         65   39\n",
      "4    Charmeleon     Fuego      NaN      64       58         80   58\n",
      "..          ...       ...      ...     ...      ...        ...  ...\n",
      "146     Dratini    Dragón      NaN      64       45         50   41\n",
      "147   Dragonair    Dragón      NaN      84       65         70   61\n",
      "148   Dragonite    Dragón  Volador     134       95         80   91\n",
      "149      Mewtwo  Psiquico      NaN     110       90        130  106\n",
      "150         Mew  Psiquico      NaN     100      100        100  100\n",
      "\n",
      "[151 rows x 7 columns]\n"
     ]
    }
   ],
   "source": [
    "import pandas as pd\n",
    "import numpy as np\n",
    "from scipy import stats\n",
    "import matplotlib.pyplot as plt\n",
    "\n",
    "\n",
    "pokedex = pd.read_csv(\"pokemon_primera_gen.csv\")\n",
    "\n",
    "print(pokedex)"
   ]
  },
  {
   "cell_type": "markdown",
   "id": "fcd53f88",
   "metadata": {},
   "source": [
    "2. Filtrado y selección\n",
    "-----------------------\n",
    "- Filtra todos los Pokémon de tipo \"Fuego\".\n",
    "- Selecciona solo las columnas Nombre, Tipo 1, Ataque y Velocidad."
   ]
  },
  {
   "cell_type": "code",
   "execution_count": 37,
   "id": "b20e8206",
   "metadata": {},
   "outputs": [
    {
     "name": "stdout",
     "output_type": "stream",
     "text": [
      "         Nombre Tipo 1  Ataque  Velocidad\n",
      "3    Charmander  Fuego      52         65\n",
      "4    Charmeleon  Fuego      64         80\n",
      "5     Charizard  Fuego      84        100\n",
      "36       Vulpix  Fuego      41         65\n",
      "37    Ninetales  Fuego      76        100\n",
      "57    Growlithe  Fuego      70         60\n",
      "58     Arcanine  Fuego     110         95\n",
      "76       Ponyta  Fuego      85         90\n",
      "77     Rapidash  Fuego     100        105\n",
      "125      Magmar  Fuego      95         93\n",
      "135     Flareon  Fuego     130         65\n",
      "145     Moltres  Fuego     100         90\n"
     ]
    }
   ],
   "source": [
    "tipo_fuego = pokedex[pokedex[\"Tipo 1\"] == \"Fuego\"]\n",
    "print(tipo_fuego[[\"Nombre\",\"Tipo 1\",\"Ataque\",\"Velocidad\"]])"
   ]
  },
  {
   "cell_type": "markdown",
   "id": "75ce4322",
   "metadata": {},
   "source": [
    "3. Estadística descriptiva básica\n",
    "---------------------------------\n",
    "- Calcula el promedio, la mediana y la moda del ataque de todos los Pokémon.\n",
    "- ¿Cuál es el Pokémon con mayor defensa? ¿Y el de menor velocidad?\n",
    "- ¿Cuántos Pokémon tienen dos tipos?\n",
    "- Calcula el rango y la desviación estándar de los PS (Puntos de Salud)."
   ]
  },
  {
   "cell_type": "code",
   "execution_count": 38,
   "id": "e894717c",
   "metadata": {},
   "outputs": [
    {
     "name": "stdout",
     "output_type": "stream",
     "text": [
      "promedio: 72.4\n",
      ",mediana: 70.0\n",
      ", moda: 65\n",
      ", max_defensa: 180\n",
      ", min_velocidad: 15\n",
      ", dos tipos: 67\n",
      ", rango: 240\n",
      ", desviacion: 28.590117003730075\n",
      "\n"
     ]
    }
   ],
   "source": [
    "promedio = np.mean(pokedex[\"Ataque\"])\n",
    "mediana = np.median(pokedex[\"Ataque\"])\n",
    "moda_ataque = pokedex[\"Ataque\"].mode().values[0] \n",
    "max_defensa = np.max(pokedex[\"Defensa\"])\n",
    "min_velocidad = np.min(pokedex[\"Velocidad\"])\n",
    "dos_tipos = pokedex[\"Tipo 2\"].notna() & (pokedex[\"Tipo 2\"] != \"\")\n",
    "dos_tipos_cantidad = dos_tipos.sum()\n",
    "rango_ataque = np.max(pokedex[\"PS\"]) - np.min(pokedex[\"PS\"])\n",
    "desviacion = pokedex[\"PS\"].std()\n",
    "\n",
    "print(f\"promedio: {round(promedio,1)}\\n,mediana: {mediana}\\n, moda: {moda_ataque}\\n, max_defensa: {max_defensa}\\n, min_velocidad: {min_velocidad}\\n, dos tipos: {dos_tipos_cantidad}\\n, rango: {rango}\\n, desviacion: {desviacion}\\n\")"
   ]
  },
  {
   "cell_type": "markdown",
   "id": "24f0a3ca",
   "metadata": {},
   "source": [
    "4. Visualización de datos\n",
    "-------------------------\n",
    "- Haz un histograma de los valores de ataque.\n",
    "- Realiza un gráfico de dispersión entre ataque y velocidad.\n",
    "- Haz un boxplot de los PS por tipo principal (Tipo 1).\n",
    "- Grafica la distribución de la defensa usando un diagrama de violín."
   ]
  },
  {
   "cell_type": "code",
   "execution_count": null,
   "id": "df91e6d1",
   "metadata": {},
   "outputs": [
    {
     "data": {
      "image/png": "[encoded data removed]",
      "text/plain": [
       "<Figure size 640x480 with 1 Axes>"
      ]
     },
     "metadata": {},
     "output_type": "display_data"
    }
   ],
   "source": [
    "plt.hist(pokedex[\"Ataque\"], bins=10, edgecolor='black')  # puedes cambiar 'bins' según lo detallado que quieras el histograma\n",
    "plt.xlabel(\"Ataque\")\n",
    "plt.ylabel(\"Cantidad de Pokémon\")\n",
    "plt.title(\"Histograma de Ataque de Pokémon\")\n",
    "plt.show()"
   ]
  }
 ],
 "metadata": {
  "kernelspec": {
   "display_name": "venv (3.12.3)",
   "language": "python",
   "name": "python3"
  },
  "language_info": {
   "codemirror_mode": {
    "name": "ipython",
    "version": 3
   },
   "file_extension": ".py",
   "mimetype": "text/x-python",
   "name": "python",
   "nbconvert_exporter": "python",
   "pygments_lexer": "ipython3",
   "version": "3.12.3"
  }
 },
 "nbformat": 4,
 "nbformat_minor": 5
}
